{
 "cells": [
  {
   "cell_type": "code",
   "execution_count": 1,
   "metadata": {
    "colab": {
     "base_uri": "https://localhost:8080/",
     "height": 437
    },
    "colab_type": "code",
    "id": "3PgIns-jRj_8",
    "outputId": "3956131d-9474-4ca2-bb14-19ec689ad61c"
   },
   "outputs": [],
   "source": [
    "'''\n",
    "  code by Tae Hwan Jung(Jeff Jung) @graykode\n",
    "'''\n",
    "import numpy as np\n",
    "import torch\n",
    "import torch.nn as nn\n",
    "import torch.optim as optim\n",
    "from torch.autograd import Variable\n",
    "import matplotlib.pyplot as plt\n",
    "\n",
    "dtype = torch.FloatTensor\n",
    "\n",
    "# 3 Words Sentence\n",
    "sentences = [ \"i like dog\", \"i like cat\", \"i like animal\",\n",
    "              \"dog cat animal\", \"apple cat dog like\", \"dog fish milk like\",\n",
    "              \"dog cat eyes like\", \"i like apple\", \"apple i hate\",\n",
    "              \"apple i movie book music like\", \"cat dog hate\", \"cat dog like\"]\n",
    "\n",
    "word_sequence = \" \".join(sentences).split()\n",
    "word_list = \" \".join(sentences).split()\n",
    "word_list = list(set(word_list))\n",
    "word_dict = {w: i for i, w in enumerate(word_list)}"
   ]
  },
  {
   "cell_type": "code",
   "execution_count": 2,
   "metadata": {
    "colab": {
     "base_uri": "https://localhost:8080/",
     "height": 437
    },
    "colab_type": "code",
    "id": "3PgIns-jRj_8",
    "outputId": "3956131d-9474-4ca2-bb14-19ec689ad61c"
   },
   "outputs": [],
   "source": [
    "# Word2Vec Parameter\n",
    "batch_size = 20  # To show 2 dim embedding graph\n",
    "embedding_size = 2  # To show 2 dim embedding graph\n",
    "voc_size = len(word_list)\n",
    "window = 1\n",
    "def random_batch(data, size):\n",
    "    random_inputs = []\n",
    "    random_labels = []\n",
    "    random_index = np.random.choice(range(len(data)), size, replace=False)\n",
    "\n",
    "    for i in random_index:\n",
    "        random_inputs.append(np.eye(voc_size)[data[i][0]])  # target\n",
    "        random_labels.append(data[i][1])  # context word\n",
    "\n",
    "    return random_inputs, random_labels"
   ]
  },
  {
   "cell_type": "code",
   "execution_count": 3,
   "metadata": {
    "colab": {
     "base_uri": "https://localhost:8080/",
     "height": 437
    },
    "colab_type": "code",
    "id": "3PgIns-jRj_8",
    "outputId": "3956131d-9474-4ca2-bb14-19ec689ad61c"
   },
   "outputs": [
    {
     "name": "stdout",
     "output_type": "stream",
     "text": [
      "[[5, 7], [5, 4], [4, 5], [4, 7], [7, 4], [7, 5], [5, 7], [5, 1], [1, 5], [1, 7], [7, 1], [7, 5], [5, 7], [5, 0], [0, 5], [0, 4], [4, 0], [4, 1], [1, 4], [1, 0], [0, 1], [0, 10], [10, 0], [10, 1], [1, 10], [1, 4], [4, 1], [4, 5], [5, 4], [5, 4], [4, 5], [4, 2], [2, 4], [2, 6], [6, 2], [6, 5], [5, 6], [5, 4], [4, 5], [4, 1], [1, 4], [1, 3], [3, 1], [3, 5], [5, 3], [5, 7], [7, 5], [7, 5], [5, 7], [5, 10], [10, 5], [10, 10], [10, 10], [10, 7], [7, 10], [7, 9], [9, 7], [9, 10], [10, 9], [10, 7], [7, 10], [7, 11], [11, 7], [11, 8], [8, 11], [8, 12], [12, 8], [12, 5], [5, 12], [5, 1], [1, 5], [1, 4], [4, 1], [4, 9], [9, 4], [9, 1], [1, 9], [1, 4], [4, 1], [4, 5]]\n"
     ]
    }
   ],
   "source": [
    "# Make skip gram of one size window\n",
    "skip_grams = []\n",
    "for i in range(1, len(word_sequence) - 1):\n",
    "    target = word_dict[word_sequence[i]]\n",
    "    \n",
    "    context = [word_dict[word_sequence[i - window]], word_dict[word_sequence[i + window]]]\n",
    "\n",
    "    for w in context:\n",
    "        skip_grams.append([target, w])\n",
    "print(skip_grams)"
   ]
  },
  {
   "cell_type": "code",
   "execution_count": 4,
   "metadata": {
    "colab": {
     "base_uri": "https://localhost:8080/",
     "height": 437
    },
    "colab_type": "code",
    "id": "3PgIns-jRj_8",
    "outputId": "3956131d-9474-4ca2-bb14-19ec689ad61c"
   },
   "outputs": [
    {
     "name": "stdout",
     "output_type": "stream",
     "text": [
      "Epoch: 1000 cost = 2.033083\n",
      "Epoch: 2000 cost = 1.971684\n",
      "Epoch: 3000 cost = 2.003685\n",
      "Epoch: 4000 cost = 1.890090\n",
      "Epoch: 5000 cost = 1.766580\n"
     ]
    },
    {
     "data": {
      "image/png": "[encoded data removed]",
      "text/plain": [
       "<Figure size 432x288 with 1 Axes>"
      ]
     },
     "metadata": {
      "needs_background": "light"
     },
     "output_type": "display_data"
    }
   ],
   "source": [
    "# Model\n",
    "class Word2Vec(nn.Module):\n",
    "    def __init__(self):\n",
    "        super(Word2Vec, self).__init__()\n",
    "\n",
    "        # W and WT is not Traspose relationship\n",
    "        self.W = nn.Parameter(-2 * torch.rand(voc_size, embedding_size) + 1).type(dtype) # voc_size > embedding_size Weight\n",
    "        self.WT = nn.Parameter(-2 * torch.rand(embedding_size, voc_size) + 1).type(dtype) # embedding_size > voc_size Weight\n",
    "\n",
    "    def forward(self, X):\n",
    "        # X : [batch_size, voc_size]\n",
    "        hidden_layer = torch.matmul(X, self.W) # hidden_layer : [batch_size, embedding_size]\n",
    "        output_layer = torch.matmul(hidden_layer, self.WT) # output_layer : [batch_size, voc_size]\n",
    "        return output_layer\n",
    "\n",
    "model = Word2Vec()\n",
    "\n",
    "criterion = nn.CrossEntropyLoss()\n",
    "optimizer = optim.Adam(model.parameters(), lr=0.001)\n",
    "\n",
    "# Training\n",
    "for epoch in range(5000):\n",
    "\n",
    "    input_batch, target_batch = random_batch(skip_grams, batch_size)\n",
    "\n",
    "    input_batch = Variable(torch.Tensor(input_batch))\n",
    "    target_batch = Variable(torch.LongTensor(target_batch))\n",
    "\n",
    "    optimizer.zero_grad()\n",
    "    output = model(input_batch)\n",
    "\n",
    "    # output : [batch_size, voc_size], target_batch : [batch_size] (LongTensor, not one-hot)\n",
    "    loss = criterion(output, target_batch)\n",
    "    if (epoch + 1)%1000 == 0:\n",
    "        print('Epoch:', '%04d' % (epoch + 1), 'cost =', '{:.6f}'.format(loss))\n",
    "\n",
    "    loss.backward()\n",
    "    optimizer.step()\n",
    "\n",
    "for i, label in enumerate(word_list):\n",
    "    W, WT = model.parameters()\n",
    "    x,y = float(W[i][0]), float(W[i][1])\n",
    "    plt.scatter(x, y)\n",
    "    plt.annotate(label, xy=(x, y), xytext=(5, 2), textcoords='offset points', ha='right', va='bottom')\n",
    "plt.show()"
   ]
  }
 ],
 "metadata": {
  "accelerator": "GPU",
  "colab": {
   "collapsed_sections": [],
   "name": "Word2Vec-Torch(Softmax).ipynb",
   "provenance": [],
   "version": "0.3.2"
  },
  "kernelspec": {
   "display_name": "Python 3",
   "language": "python",
   "name": "python3"
  },
  "language_info": {
   "codemirror_mode": {
    "name": "ipython",
    "version": 3
   },
   "file_extension": ".py",
   "mimetype": "text/x-python",
   "name": "python",
   "nbconvert_exporter": "python",
   "pygments_lexer": "ipython3",
   "version": "3.6.6"
  }
 },
 "nbformat": 4,
 "nbformat_minor": 1
}
